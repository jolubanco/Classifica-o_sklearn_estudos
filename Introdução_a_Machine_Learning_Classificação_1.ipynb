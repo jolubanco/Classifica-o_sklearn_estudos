{
  "nbformat": 4,
  "nbformat_minor": 0,
  "metadata": {
    "colab": {
      "name": "Introdução a Machine Learning Classificação -1",
      "provenance": [],
      "collapsed_sections": []
    },
    "kernelspec": {
      "name": "python3",
      "display_name": "Python 3"
    }
  },
  "cells": [
    {
      "cell_type": "code",
      "metadata": {
        "id": "WPViBEAUy4E-"
      },
      "source": [
        " #features (1 sim, 0 não)\n",
        " #pelo longo?\n",
        " #perna curta?\n",
        " #faz auau?\n",
        "\n",
        " porco1 = [0,1,0]\n",
        " porco2 = [0,1,1]\n",
        " porco3 = [1,1,0]\n",
        "\n",
        "cachorro1 =[0,1,1]\n",
        "cachorro2 =[1,0,1]\n",
        "cachorro3 =[1,1,1]\n",
        "\n",
        "# 1 => porco, 0 => cachorro\n",
        "treino_x = [porco1,porco2,porco3,cachorro1,cachorro2,cachorro3] #nomenclatura padrão: x para os dados e y para a classe que eles pertencem\n",
        "treino_y = [1,1,1,0,0,0] #as vezes são chamadas de label"
      ],
      "execution_count": null,
      "outputs": []
    },
    {
      "cell_type": "code",
      "metadata": {
        "colab": {
          "base_uri": "https://localhost:8080/"
        },
        "id": "jOxXAKMn2fwx",
        "outputId": "7e1ecfbe-28ba-4073-9701-d310800067c0"
      },
      "source": [
        "from sklearn.svm import LinearSVC # importando um estimados da biblioteca Scikit-learn do python\n",
        "\n",
        "model = LinearSVC()\n",
        "model.fit(treino_x, treino_y) #faz com que o modelo se adapte as duas informações dados e classes, como o aprendizado é supervisionado\n",
        "#precisamos fornecer as classes"
      ],
      "execution_count": null,
      "outputs": [
        {
          "output_type": "execute_result",
          "data": {
            "text/plain": [
              "LinearSVC(C=1.0, class_weight=None, dual=True, fit_intercept=True,\n",
              "          intercept_scaling=1, loss='squared_hinge', max_iter=1000,\n",
              "          multi_class='ovr', penalty='l2', random_state=None, tol=0.0001,\n",
              "          verbose=0)"
            ]
          },
          "metadata": {
            "tags": []
          },
          "execution_count": 30
        }
      ]
    },
    {
      "cell_type": "code",
      "metadata": {
        "colab": {
          "base_uri": "https://localhost:8080/"
        },
        "id": "LIx_UFhH4k5C",
        "outputId": "35351b48-525a-4918-ec1c-bd7f29d53d17"
      },
      "source": [
        "animal_misterioso =[1,1,1]\n",
        "model.predict([animal_misterioso]) #modelo tentando prever qual classe pertence esse animal misterioso\n",
        "# o predict espera um array com varios itens, então precisamos passar uma lista com varios itens\n",
        "#o modelo previu que era um cachorro"
      ],
      "execution_count": null,
      "outputs": [
        {
          "output_type": "execute_result",
          "data": {
            "text/plain": [
              "array([0])"
            ]
          },
          "metadata": {
            "tags": []
          },
          "execution_count": 31
        }
      ]
    },
    {
      "cell_type": "code",
      "metadata": {
        "id": "dDKLlUBl5Isl"
      },
      "source": [
        "misterio1= [1,1,1] #cachoro\n",
        "misterio2=[1,1,0]#cachoro\n",
        "misterio3=[0,1,1]#porco\n",
        "\n",
        "teste_x = [misterio1,misterio2,misterio3]\n",
        "teste_y =[0,1,1] #o resultado que ja sabia que era para teste_x\n",
        " #definindo as classes de misteiro1,misterio2 e misterio3"
      ],
      "execution_count": null,
      "outputs": []
    },
    {
      "cell_type": "code",
      "metadata": {
        "colab": {
          "base_uri": "https://localhost:8080/"
        },
        "id": "NkKsj2NP-Rx3",
        "outputId": "450b807c-e1f9-4863-b9a3-d088eb06a3ce"
      },
      "source": [
        "previsoes = model.predict(teste_x)\n",
        "previsoes"
      ],
      "execution_count": null,
      "outputs": [
        {
          "output_type": "execute_result",
          "data": {
            "text/plain": [
              "array([0, 1, 0])"
            ]
          },
          "metadata": {
            "tags": []
          },
          "execution_count": 34
        }
      ]
    },
    {
      "cell_type": "code",
      "metadata": {
        "colab": {
          "base_uri": "https://localhost:8080/"
        },
        "id": "vbG7e-af6Oyx",
        "outputId": "6ae2792e-192f-4e11-8e05-496c7733ef66"
      },
      "source": [
        "previsoes == teste_y #podemos fazer essa comparação direta pois previsoes é um array do numpy e o scikit-learn utiliza ele por baixo dos panos\n"
      ],
      "execution_count": null,
      "outputs": [
        {
          "output_type": "execute_result",
          "data": {
            "text/plain": [
              "array([ True,  True, False])"
            ]
          },
          "metadata": {
            "tags": []
          },
          "execution_count": 37
        }
      ]
    },
    {
      "cell_type": "code",
      "metadata": {
        "colab": {
          "base_uri": "https://localhost:8080/"
        },
        "id": "Tnxb06U96uhc",
        "outputId": "7eaffde8-66c3-4a08-e321-f8352820eac1"
      },
      "source": [
        "corretos = (previsoes == teste_y).sum()\n",
        "corretos #numero de acertos"
      ],
      "execution_count": null,
      "outputs": [
        {
          "output_type": "execute_result",
          "data": {
            "text/plain": [
              "2"
            ]
          },
          "metadata": {
            "tags": []
          },
          "execution_count": 38
        }
      ]
    },
    {
      "cell_type": "code",
      "metadata": {
        "colab": {
          "base_uri": "https://localhost:8080/"
        },
        "id": "F3YO2KSF7UsS",
        "outputId": "41055b45-7b4d-48a2-fe43-d2470bff2866"
      },
      "source": [
        "total = len(teste_x)\n",
        "taxa_de_acertos = corretos/total\n",
        "print('Taxa de acertos %.2f ' % (taxa_de_acertos*100))\n"
      ],
      "execution_count": null,
      "outputs": [
        {
          "output_type": "stream",
          "text": [
            "Taxa de acertos 66.67 \n"
          ],
          "name": "stdout"
        }
      ]
    },
    {
      "cell_type": "code",
      "metadata": {
        "colab": {
          "base_uri": "https://localhost:8080/"
        },
        "id": "5xEZYv8U717s",
        "outputId": "315064d2-25eb-4a73-a5a8-8bb08f95bec1"
      },
      "source": [
        "from sklearn.metrics import accuracy_score #buscando uma função que apresente a taxa de acertos diretamente, sem precisar faz a conta anterior\n",
        "\n",
        "taxa_de_acerto = accuracy_score(teste_y,previsoes)  #accuracy_score mede a precisao das previsoes do modelo \n",
        "#valores verdadeiros primeiro e depois as previsoes\n",
        "print('Taxa de acertos %.2f ' % (taxa_de_acertos*100))"
      ],
      "execution_count": null,
      "outputs": [
        {
          "output_type": "stream",
          "text": [
            "Taxa de acertos 66.67 \n"
          ],
          "name": "stdout"
        }
      ]
    },
    {
      "cell_type": "code",
      "metadata": {
        "id": "wiksCyIf8mGM"
      },
      "source": [
        ""
      ],
      "execution_count": null,
      "outputs": []
    }
  ]
}